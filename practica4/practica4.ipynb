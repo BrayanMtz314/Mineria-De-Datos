{
 "cells": [
  {
   "cell_type": "code",
   "execution_count": 9,
   "id": "d7331ce4-33c3-4352-9c3c-125575e76bd7",
   "metadata": {},
   "outputs": [
    {
     "data": {
      "text/html": [
       "<div>\n",
       "<style scoped>\n",
       "    .dataframe tbody tr th:only-of-type {\n",
       "        vertical-align: middle;\n",
       "    }\n",
       "\n",
       "    .dataframe tbody tr th {\n",
       "        vertical-align: top;\n",
       "    }\n",
       "\n",
       "    .dataframe thead th {\n",
       "        text-align: right;\n",
       "    }\n",
       "</style>\n",
       "<table border=\"1\" class=\"dataframe\">\n",
       "  <thead>\n",
       "    <tr style=\"text-align: right;\">\n",
       "      <th></th>\n",
       "      <th>Nombre</th>\n",
       "      <th>Plataforma</th>\n",
       "      <th>Año</th>\n",
       "      <th>Género</th>\n",
       "      <th>Publicador</th>\n",
       "      <th>Ventas_Norteamérica</th>\n",
       "      <th>Ventas_Europa</th>\n",
       "      <th>Ventas_Japón</th>\n",
       "      <th>Ventas_Otros</th>\n",
       "      <th>Ventas_Globales</th>\n",
       "    </tr>\n",
       "  </thead>\n",
       "  <tbody>\n",
       "    <tr>\n",
       "      <th>0</th>\n",
       "      <td>Wii Sports</td>\n",
       "      <td>Wii</td>\n",
       "      <td>2006</td>\n",
       "      <td>Sports</td>\n",
       "      <td>Nintendo</td>\n",
       "      <td>41.49</td>\n",
       "      <td>29.02</td>\n",
       "      <td>3.77</td>\n",
       "      <td>8.46</td>\n",
       "      <td>82.74</td>\n",
       "    </tr>\n",
       "    <tr>\n",
       "      <th>1</th>\n",
       "      <td>Super Mario Bros.</td>\n",
       "      <td>NES</td>\n",
       "      <td>1985</td>\n",
       "      <td>Platform</td>\n",
       "      <td>Nintendo</td>\n",
       "      <td>29.08</td>\n",
       "      <td>3.58</td>\n",
       "      <td>6.81</td>\n",
       "      <td>0.77</td>\n",
       "      <td>40.24</td>\n",
       "    </tr>\n",
       "    <tr>\n",
       "      <th>2</th>\n",
       "      <td>Mario Kart Wii</td>\n",
       "      <td>Wii</td>\n",
       "      <td>2008</td>\n",
       "      <td>Racing</td>\n",
       "      <td>Nintendo</td>\n",
       "      <td>15.85</td>\n",
       "      <td>12.88</td>\n",
       "      <td>3.79</td>\n",
       "      <td>3.31</td>\n",
       "      <td>35.82</td>\n",
       "    </tr>\n",
       "    <tr>\n",
       "      <th>3</th>\n",
       "      <td>Wii Sports Resort</td>\n",
       "      <td>Wii</td>\n",
       "      <td>2009</td>\n",
       "      <td>Sports</td>\n",
       "      <td>Nintendo</td>\n",
       "      <td>15.75</td>\n",
       "      <td>11.01</td>\n",
       "      <td>3.28</td>\n",
       "      <td>2.96</td>\n",
       "      <td>33.00</td>\n",
       "    </tr>\n",
       "    <tr>\n",
       "      <th>4</th>\n",
       "      <td>Pokemon Red/Pokemon Blue</td>\n",
       "      <td>GB</td>\n",
       "      <td>1996</td>\n",
       "      <td>Role-Playing</td>\n",
       "      <td>Nintendo</td>\n",
       "      <td>11.27</td>\n",
       "      <td>8.89</td>\n",
       "      <td>10.22</td>\n",
       "      <td>1.00</td>\n",
       "      <td>31.37</td>\n",
       "    </tr>\n",
       "  </tbody>\n",
       "</table>\n",
       "</div>"
      ],
      "text/plain": [
       "                     Nombre Plataforma   Año        Género Publicador  \\\n",
       "0                Wii Sports        Wii  2006        Sports   Nintendo   \n",
       "1         Super Mario Bros.        NES  1985      Platform   Nintendo   \n",
       "2            Mario Kart Wii        Wii  2008        Racing   Nintendo   \n",
       "3         Wii Sports Resort        Wii  2009        Sports   Nintendo   \n",
       "4  Pokemon Red/Pokemon Blue         GB  1996  Role-Playing   Nintendo   \n",
       "\n",
       "   Ventas_Norteamérica  Ventas_Europa  Ventas_Japón  Ventas_Otros  \\\n",
       "0                41.49          29.02          3.77          8.46   \n",
       "1                29.08           3.58          6.81          0.77   \n",
       "2                15.85          12.88          3.79          3.31   \n",
       "3                15.75          11.01          3.28          2.96   \n",
       "4                11.27           8.89         10.22          1.00   \n",
       "\n",
       "   Ventas_Globales  \n",
       "0            82.74  \n",
       "1            40.24  \n",
       "2            35.82  \n",
       "3            33.00  \n",
       "4            31.37  "
      ]
     },
     "execution_count": 9,
     "metadata": {},
     "output_type": "execute_result"
    }
   ],
   "source": [
    "import pandas as pd\n",
    "import matplotlib.pyplot as plt\n",
    "import seaborn as sns\n",
    "from scipy import stats\n",
    "\n",
    "data = pd.read_csv(\"../datasets/vgsales_clean.csv\")\n",
    "\n",
    "data.head()"
   ]
  },
  {
   "cell_type": "markdown",
   "id": "6b796674-5f2e-42b2-8e98-e8b9649d4a0d",
   "metadata": {},
   "source": [
    "### DESCRIPCION DE LA HIPOTESIS PRINCIPAL\n",
    "Queremos comprobar si las ventas globales hacen alguna distincion dependiendo del genero, y para esto es necesario comprobar la normalidad entre cada grupo de genero con sus ventas globales, para despues hacer un uso de algun metodo ya sea para pruebas normalizadas o parametricas. \n",
    "\n",
    "### PRUEBA DE NORMALIDAD\n",
    "En el siguiente casilla usamos la prueba Shapiro-Wilk que se encuentra en la libreria stats. Hicimos uso de un agrupamiento para extraer los datos de ventas globales por cada genero de videojuegos almacenados, una vez ahi verificamos si la cantidad de valores es mayor que 3, esto por un requerimiento estadistico de la prueba shapiro. Entonces pasamos los valores a travez de la prueba shapiro y nos lanza los siguientes datos: "
   ]
  },
  {
   "cell_type": "code",
   "execution_count": 26,
   "id": "5f9b033b-9491-4df7-bce2-970dec062eb6",
   "metadata": {},
   "outputs": [
    {
     "name": "stdout",
     "output_type": "stream",
     "text": [
      "Género: Action               p-value: 4.00e-61    LOS DATOS NO SON NORMALES\n",
      "Género: Adventure            p-value: 2.41e-52    LOS DATOS NO SON NORMALES\n",
      "Género: Fighting             p-value: 8.50e-38    LOS DATOS NO SON NORMALES\n",
      "Género: Misc                 p-value: 3.49e-57    LOS DATOS NO SON NORMALES\n",
      "Género: Platform             p-value: 6.72e-41    LOS DATOS NO SON NORMALES\n",
      "Género: Puzzle               p-value: 3.84e-41    LOS DATOS NO SON NORMALES\n",
      "Género: Racing               p-value: 3.30e-46    LOS DATOS NO SON NORMALES\n",
      "Género: Role-Playing         p-value: 9.97e-55    LOS DATOS NO SON NORMALES\n",
      "Género: Shooter              p-value: 9.84e-45    LOS DATOS NO SON NORMALES\n",
      "Género: Simulation           p-value: 2.91e-45    LOS DATOS NO SON NORMALES\n",
      "Género: Sports               p-value: 4.32e-61    LOS DATOS NO SON NORMALES\n",
      "Género: Strategy             p-value: 1.99e-38    LOS DATOS NO SON NORMALES\n"
     ]
    }
   ],
   "source": [
    "for genero, grupo in data.groupby(\"Género\"):\n",
    "    valores = grupo[\"Ventas_Globales\"].values\n",
    "    if len(valores) >= 3:  \n",
    "        stat, p_value = stats.shapiro(valores)\n",
    "        if p_value < 0.05:\n",
    "            print(f\"Género: {genero:<20} p-value: {p_value:.2e}    LOS DATOS NO SON NORMALES\")\n",
    "        elif p_value >= 0.05:\n",
    "            print(f\"Género: {genero:<20} p-value: {p_value:.2e}    LOS DATOS SON NORMALES\")"
   ]
  },
  {
   "cell_type": "markdown",
   "id": "745977ff-3572-4d64-8887-5e6d9c8f3b04",
   "metadata": {},
   "source": [
    "La prueba shapiro de normalidad consta de 2 hipotesis<br>\n",
    "H0 = La distribucion es normal<br>\n",
    "H1 = La distribucion no es normal<br>\n",
    "Esto esta medido a travez de un estadistico de prueba aqui dado por p-value.<br>\n",
    "Para que la hipotesis H0 sea considerada correcta, el p-value debe de ser mayor que 0.05, lo cual es falso en todos los generos con los que la probamos. "
   ]
  },
  {
   "cell_type": "markdown",
   "id": "dbbf6c86-1472-43e6-bfbe-b1ae356664bd",
   "metadata": {},
   "source": [
    "Ahora que ya sabemos que no son datos normalizados tenemos 2 opciones, normalizarlos o usar alguna prueba que no requiera datos normalizados. En esta practica hemos elegido usar kruskall wallis test el cual es una prueba parametrica que no hace uso de datos normalizados. "
   ]
  },
  {
   "cell_type": "code",
   "execution_count": 28,
   "id": "31f9f4f6-69a9-448e-b743-e54dfd1c576f",
   "metadata": {},
   "outputs": [
    {
     "name": "stdout",
     "output_type": "stream",
     "text": [
      "Estadístico H: 836.6730720086949\n",
      "p-value: 2.52e-172    hay diferencias significativas entre al menos un par de géneros\n"
     ]
    }
   ],
   "source": [
    "grupos = [grupo[\"Ventas_Globales\"].values \n",
    "          for nombre, grupo in data.groupby(\"Género\")]\n",
    "\n",
    "# Aplicar Kruskal-Wallis\n",
    "h_stat, p_value = stats.kruskal(*grupos)\n",
    "\n",
    "print(\"Estadístico H:\", h_stat)\n",
    "if p_value < 0.05:\n",
    "        print(f\"p-value: {p_value:.2e}    hay diferencias significativas entre al menos un par de géneros\")\n",
    "elif p_value >= 0.05:\n",
    "        print(f\"p-value: {p_value:.2e}    no hay evidencia suficiente para decir que los géneros difieran en ventas globales\")\n"
   ]
  },
  {
   "cell_type": "markdown",
   "id": "71ebdd5b-8582-4085-8b9f-d25e636d1111",
   "metadata": {},
   "source": [
    "La prueba Kruskall wallis hace uso de 2 hipotesis:<br>\n",
    "H0: hay al menos 2 grupos que difieren en cuanto a ventas<br>\n",
    "H1: todos los grupos se parecen en cuanto a ventas<br>\n",
    "todo se basa en el valor de p-value, como obtuvimos practicamente un p-value = 0, esto lo que nos lanza es que al menos 2 grupos difiren en cuanto ventas.<br>"
   ]
  },
  {
   "cell_type": "markdown",
   "id": "7619617b-35ec-4487-8baf-33c3cd8d6df8",
   "metadata": {},
   "source": [
    "#### Conclusion:<br>\n",
    "#### AL menos un genero de los 12 es mas comprado"
   ]
  },
  {
   "cell_type": "code",
   "execution_count": 32,
   "id": "d00e6337-a2b7-4c43-a33d-fecf8bf62f64",
   "metadata": {},
   "outputs": [
    {
     "name": "stdout",
     "output_type": "stream",
     "text": [
      "Género: Action               p-value: 4.00e-61    LOS DATOS NO SON NORMALES\n",
      "Género: Adventure            p-value: 2.41e-52    LOS DATOS NO SON NORMALES\n",
      "Género: Fighting             p-value: 8.50e-38    LOS DATOS NO SON NORMALES\n",
      "Género: Misc                 p-value: 3.49e-57    LOS DATOS NO SON NORMALES\n",
      "Género: Platform             p-value: 6.72e-41    LOS DATOS NO SON NORMALES\n",
      "Género: Puzzle               p-value: 3.84e-41    LOS DATOS NO SON NORMALES\n",
      "Género: Racing               p-value: 3.30e-46    LOS DATOS NO SON NORMALES\n",
      "Género: Role-Playing         p-value: 9.97e-55    LOS DATOS NO SON NORMALES\n",
      "Género: Shooter              p-value: 9.84e-45    LOS DATOS NO SON NORMALES\n",
      "Género: Simulation           p-value: 2.91e-45    LOS DATOS NO SON NORMALES\n",
      "Género: Sports               p-value: 4.32e-61    LOS DATOS NO SON NORMALES\n",
      "Género: Strategy             p-value: 1.99e-38    LOS DATOS NO SON NORMALES\n",
      "Estadístico H: 836.6730720086949\n",
      "p-value: 2.52e-172    hay diferencias significativas entre al menos un par de géneros\n"
     ]
    }
   ],
   "source": [
    "# Codigo en funciones\n",
    "def prueba_normalizacion(df):\n",
    "    \"\"\"Hace uso de la prueba Shapiro para comprobar la normalidad de los datos\"\"\"\n",
    "    for genero, grupo in df.groupby(\"Género\"):\n",
    "        valores = grupo[\"Ventas_Globales\"].values\n",
    "        if len(valores) >= 3:  \n",
    "            #Prueba shapiro\n",
    "            stat, p_value = stats.shapiro(valores)\n",
    "            if p_value < 0.05:\n",
    "                print(f\"Género: {genero:<20} p-value: {p_value:.2e}    LOS DATOS NO SON NORMALES\")\n",
    "            elif p_value >= 0.05:\n",
    "                print(f\"Género: {genero:<20} p-value: {p_value:.2e}    LOS DATOS SON NORMALES\")\n",
    "\n",
    "def prueba_grupos(df):\n",
    "    \"\"\"HAce uso de la prueba Kruskal-Wallis para comprobar la diferencias entre grupos\"\"\"\n",
    "    grupos = [grupo[\"Ventas_Globales\"].values \n",
    "          for nombre, grupo in df.groupby(\"Género\")]\n",
    "\n",
    "    # Kruskal-Wallis\n",
    "    h_stat, p_value = stats.kruskal(*grupos)\n",
    "    print(\"Estadístico H:\", h_stat)\n",
    "    if p_value < 0.05:\n",
    "            print(f\"p-value: {p_value:.2e}    hay diferencias significativas entre al menos un par de géneros\")\n",
    "    elif p_value >= 0.05:\n",
    "            print(f\"p-value: {p_value:.2e}    no hay evidencia suficiente para decir que los géneros difieran en ventas globales\")\n",
    "\n",
    "#USO\n",
    "prueba_normalizacion(data)\n",
    "prueba_grupos(data)"
   ]
  }
 ],
 "metadata": {
  "kernelspec": {
   "display_name": "Python 3 (ipykernel)",
   "language": "python",
   "name": "python3"
  },
  "language_info": {
   "codemirror_mode": {
    "name": "ipython",
    "version": 3
   },
   "file_extension": ".py",
   "mimetype": "text/x-python",
   "name": "python",
   "nbconvert_exporter": "python",
   "pygments_lexer": "ipython3",
   "version": "3.12.5"
  }
 },
 "nbformat": 4,
 "nbformat_minor": 5
}
